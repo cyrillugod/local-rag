{
 "cells": [
  {
   "cell_type": "code",
   "execution_count": 36,
   "id": "00c47184",
   "metadata": {},
   "outputs": [],
   "source": [
    "# pip install -r requirements.txt # --force-reinstall"
   ]
  },
  {
   "cell_type": "code",
   "execution_count": 1,
   "id": "f4a15223",
   "metadata": {},
   "outputs": [
    {
     "name": "stderr",
     "output_type": "stream",
     "text": [
      "/Users/cyrilbenedictlugod/Documents/Misc/random_code_stuff/local-rag/.venv/lib/python3.10/site-packages/tqdm/auto.py:21: TqdmWarning: IProgress not found. Please update jupyter and ipywidgets. See https://ipywidgets.readthedocs.io/en/stable/user_install.html\n",
      "  from .autonotebook import tqdm as notebook_tqdm\n"
     ]
    }
   ],
   "source": [
    "import pandas as pd\n",
    "import numpy as np\n",
    "import os\n",
    "import fitz\n",
    "import json\n",
    "import chromadb\n",
    "from transformers import AutoTokenizer, AutoModel\n",
    "from sentence_transformers import SentenceTransformer\n",
    "from langchain_text_splitters import TokenTextSplitter\n",
    "import torch\n",
    "import tiktoken\n",
    "import hashlib\n",
    "from ollama import chat\n",
    "from dotenv import load_dotenv"
   ]
  },
  {
   "cell_type": "code",
   "execution_count": 9,
   "id": "b7e79440",
   "metadata": {},
   "outputs": [],
   "source": [
    "load_dotenv()\n",
    "\n",
    "docs_path = os.getenv('DOCS_PATH')\n",
    "index_db = os.getenv('DB_NAME')\n",
    "model_name = os.getenv('MODEL_NAME')"
   ]
  },
  {
   "cell_type": "code",
   "execution_count": 10,
   "id": "0a41c880",
   "metadata": {},
   "outputs": [
    {
     "name": "stdout",
     "output_type": "stream",
     "text": [
      "docs doc_index gemma3:1b\n"
     ]
    }
   ],
   "source": [
    "print(docs_path, index_db, model_name)"
   ]
  },
  {
   "cell_type": "markdown",
   "id": "95fbd4ea",
   "metadata": {},
   "source": [
    "## Load PDFs from docs folder"
   ]
  },
  {
   "cell_type": "code",
   "execution_count": 11,
   "id": "ba97564d",
   "metadata": {},
   "outputs": [],
   "source": [
    "def load_fpaths(docs_path):\n",
    "    return [os.path.join(docs_path, f) for f in os.listdir(docs_path)]"
   ]
  },
  {
   "cell_type": "code",
   "execution_count": 12,
   "metadata": {},
   "outputs": [],
   "source": [
    "def load_file(file_path):\n",
    "\n",
    "    with fitz.open(file_path) as doc:\n",
    "        return([page.get_text() for page in doc][0])"
   ]
  },
  {
   "cell_type": "code",
   "execution_count": 13,
   "id": "e0995071",
   "metadata": {},
   "outputs": [],
   "source": [
    "def make_id(file_path: str, chunk_id: int) -> str:\n",
    "    \n",
    "    raw = f\"{file_path}_{chunk_id}\"\n",
    "    return hashlib.md5(raw.encode()).hexdigest()"
   ]
  },
  {
   "cell_type": "code",
   "execution_count": 14,
   "metadata": {},
   "outputs": [],
   "source": [
    "def generate_index_entries(file_path):\n",
    "\n",
    "    tokenizer = TokenTextSplitter(chunk_size=200, chunk_overlap=20)\n",
    "    embed_model = SentenceTransformer(\"all-MiniLM-L6-v2\")\n",
    "\n",
    "    file_text = load_file(file_path)\n",
    "\n",
    "    token_lst = tokenizer.split_text(file_text)\n",
    "    embeddings = embed_model.encode(token_lst, batch_size=32, show_progress_bar=True)\n",
    "    ids = [make_id(file_path, i+1) for i, _ in enumerate(token_lst)]\n",
    "    metadata = [{'source': file_path, 'chunk': i+1, 'preview': token[:100]} for i, token in enumerate(token_lst)]\n",
    "\n",
    "    return ids, token_lst, embeddings, metadata"
   ]
  },
  {
   "cell_type": "code",
   "execution_count": 15,
   "id": "b313c8b6",
   "metadata": {},
   "outputs": [],
   "source": [
    "def push_to_index(file_path, index_db):\n",
    "\n",
    "    client = chromadb.Client()\n",
    "    collection = client.get_or_create_collection(index_db)\n",
    "\n",
    "    index_entries = generate_index_entries(file_path)\n",
    "    \n",
    "    collection.add(\n",
    "        ids=index_entries[0],\n",
    "        documents=index_entries[1],\n",
    "        embeddings=index_entries[2],\n",
    "        metadatas=index_entries[3]\n",
    "    )\n",
    "    \n",
    "    return collection"
   ]
  },
  {
   "cell_type": "code",
   "execution_count": 17,
   "id": "99b960bd",
   "metadata": {},
   "outputs": [
    {
     "name": "stderr",
     "output_type": "stream",
     "text": [
      "Batches: 100%|██████████| 1/1 [00:00<00:00,  1.00it/s]\n",
      "Batches: 100%|██████████| 1/1 [00:00<00:00,  4.01it/s]\n",
      "Batches: 100%|██████████| 1/1 [00:00<00:00,  1.76it/s]\n"
     ]
    }
   ],
   "source": [
    "for file_ in load_fpaths(docs_path):\n",
    "    push_to_index(file_, index_db)"
   ]
  },
  {
   "cell_type": "code",
   "execution_count": 19,
   "id": "1707530a",
   "metadata": {},
   "outputs": [
    {
     "name": "stdout",
     "output_type": "stream",
     "text": [
      "[Collection(name=doc_index)]\n",
      "Number of items: 10\n",
      "IDs: ['cb24c98c67335c77a4462ca592af1370', '5e5aa3c9be20cd9d061f1a3b6b520085', '7f967126d546912dbcc484c33194ead0', 'dc792cf25e06482987a7cc6947895c3b', 'f7cb9c9588495a45788a63f9ff491dd1']\n",
      "Documents: ['The Essentials of Dog Care and Companionship\\nOwning a dog is a long-term commitment that goes far beyond food and shelter. Proper care \\ninvolves a combination of physical health management, mental stimulation, and emotional \\nsupport. Dogs require regular veterinary visits for vaccinations, parasite prevention, and overall \\nhealth check-ups. Preventive care helps detect issues early and can greatly extend a dog’s \\nlifespan. Additionally, dental health is often overlooked but is vital; untreated dental disease can \\nlead to infections and even organ damage.\\nExercise is one of the most important components of dog care. The amount and type of exercise \\nrequired varies by breed, age, and health. High-energy breeds like Border Collies, Huskies, and \\nBelgian Malinois need several hours of physical activity daily, while lower-energy breeds like \\nBulldogs or Shih Tzus may be content with short walks.', 'energy breeds like \\nBulldogs or Shih Tzus may be content with short walks. Beyond exercise, mental stimulation is \\nequally critical. Dogs are intelligent animals that can become bored, anxious, or destructive if not \\nproperly engaged. Puzzle toys, training exercises, and interactive games like hide-and-seek can \\nhelp keep their minds active.\\nGrooming also plays a vital role in overall care. Long-haired breeds like Afghan Hounds or Shih \\nTzus require regular brushing to prevent matting, while double-coated breeds shed seasonally \\nand need consistent grooming to manage loose fur. Bathing should be done as needed, but not \\ntoo frequently, as it can strip the skin of natural oils. Nail trimming, ear cleaning, and flea/tick \\nprevention are all essential aspects of maintaining a dog’s well-being.\\nPerhaps the most important element of dog care']\n",
      "Metadata: [{'source': 'docs/doc3.pdf', 'preview': 'The Essentials of Dog Care and Companionship\\nOwning a dog is a long-term commitment that goes far be', 'chunk': 1}, {'source': 'docs/doc3.pdf', 'preview': 'energy breeds like \\nBulldogs or Shih Tzus may be content with short walks. Beyond exercise, mental s', 'chunk': 2}]\n"
     ]
    }
   ],
   "source": [
    "client = chromadb.Client()\n",
    "collection = client.get_or_create_collection(index_db)\n",
    "print(client.list_collections())\n",
    "print(\"Number of items:\", collection.count())\n",
    "results = collection.get()\n",
    "print(\"IDs:\", results[\"ids\"][:5])\n",
    "print(\"Documents:\", results[\"documents\"][:2])   # show first 2 docs\n",
    "print(\"Metadata:\", results[\"metadatas\"][:2])"
   ]
  },
  {
   "cell_type": "code",
   "execution_count": 26,
   "id": "b2ce5610",
   "metadata": {},
   "outputs": [],
   "source": [
    "model = SentenceTransformer(\"all-MiniLM-L6-v2\")"
   ]
  },
  {
   "cell_type": "code",
   "execution_count": 32,
   "id": "c636a00d",
   "metadata": {},
   "outputs": [
    {
     "name": "stdout",
     "output_type": "stream",
     "text": [
      "Leaving a dog alone for extended periods can lead to separation anxiety and stress-related behaviors, ultimately impacting their well-being."
     ]
    }
   ],
   "source": [
    "query = 'What can happen if a dog is left alone too long?'\n",
    "\n",
    "embed_query = model.encode(query).tolist()\n",
    "results = collection.query(query_embeddings=embed_query, n_results=2)\n",
    "\n",
    "retrieved_context = ''.join(results['documents'][0])\n",
    "\n",
    "stream = chat(\n",
    "    model=model_name,\n",
    "    messages=[\n",
    "      {'role': 'system',\n",
    "        'content': 'You are a helpful assistant. Use only the provided context to answer the question. If you are not sure about the answer, reply with \"From the provided context, I do not know the answer to your question.\"'},\n",
    "      \n",
    "      {'role': 'user',\n",
    "        'content': f'Context:\\n{retrieved_context}\\nQuestion:\\n{query}'}\n",
    "      ],\n",
    "    stream=True,\n",
    ")\n",
    "\n",
    "for chunk in stream:\n",
    "  print(chunk['message']['content'], end='', flush=True)"
   ]
  },
  {
   "cell_type": "code",
   "execution_count": 31,
   "id": "d13af122",
   "metadata": {},
   "outputs": [
    {
     "name": "stdout",
     "output_type": "stream",
     "text": [
      "If a dog is left alone for extended periods, it can lead to separation anxiety and stress-related behaviors."
     ]
    }
   ],
   "source": [
    "query = 'What can happen if a dog is left alone too long?'\n",
    "\n",
    "embed_query = model.encode(query, convert_to_tensor=True, normalize_embeddings=True)\n",
    "embed_query = embed_query.tolist()  # convert only once for Chroma\n",
    "\n",
    "# 🔹 Retrieve top 2 chunks\n",
    "results = collection.query(query_embeddings=embed_query, n_results=2)\n",
    "retrieved_context = \"\\n\\n\".join(results['documents'][0])  # readable, no giant string\n",
    "\n",
    "# 🔹 Send to Ollama with context\n",
    "stream = chat(\n",
    "    model=model_name,\n",
    "    messages=[\n",
    "        {\n",
    "            \"role\": \"system\",\n",
    "            \"content\": (\n",
    "                \"You are a helpful assistant. Use only the provided context to answer. \"\n",
    "                \"If unsure, reply: 'From the provided context, I do not know.'\"\n",
    "            )\n",
    "        },\n",
    "        {\n",
    "            \"role\": \"user\",\n",
    "            \"content\": f\"Context:\\n{retrieved_context}\\n\\nQuestion:\\n{query}\"\n",
    "        }\n",
    "    ],\n",
    "    stream=True,\n",
    ")\n",
    "\n",
    "# 🔹 Stream the response\n",
    "for chunk in stream:\n",
    "    print(chunk['message']['content'], end='', flush=True)"
   ]
  },
  {
   "cell_type": "code",
   "execution_count": null,
   "id": "ad264830",
   "metadata": {},
   "outputs": [],
   "source": []
  }
 ],
 "metadata": {
  "kernelspec": {
   "display_name": ".venv",
   "language": "python",
   "name": "python3"
  },
  "language_info": {
   "codemirror_mode": {
    "name": "ipython",
    "version": 3
   },
   "file_extension": ".py",
   "mimetype": "text/x-python",
   "name": "python",
   "nbconvert_exporter": "python",
   "pygments_lexer": "ipython3",
   "version": "3.10.4"
  }
 },
 "nbformat": 4,
 "nbformat_minor": 5
}
