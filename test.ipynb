{
 "cells": [
  {
   "cell_type": "code",
   "execution_count": 36,
   "id": "00c47184",
   "metadata": {},
   "outputs": [],
   "source": [
    "# pip install -r requirements.txt # --force-reinstall"
   ]
  },
  {
   "cell_type": "code",
   "execution_count": 47,
   "id": "f4a15223",
   "metadata": {},
   "outputs": [],
   "source": [
    "import pandas as pd\n",
    "import numpy as np\n",
    "import os\n",
    "import fitz\n",
    "import json\n",
    "import chromadb\n",
    "from transformers import AutoTokenizer, AutoModel\n",
    "from sentence_transformers import SentenceTransformer\n",
    "from langchain_text_splitters import TokenTextSplitter\n",
    "import torch\n",
    "import tiktoken\n",
    "import hashlib\n",
    "from dotenv import load_dotenv"
   ]
  },
  {
   "cell_type": "code",
   "execution_count": 16,
   "id": "3890e95e",
   "metadata": {},
   "outputs": [
    {
     "data": {
      "text/plain": [
       "'1.26.4'"
      ]
     },
     "execution_count": 16,
     "metadata": {},
     "output_type": "execute_result"
    }
   ],
   "source": [
    "np.__version__"
   ]
  },
  {
   "cell_type": "code",
   "execution_count": 46,
   "id": "b7e79440",
   "metadata": {},
   "outputs": [],
   "source": [
    "load_dotenv()\n",
    "\n",
    "docs_path = os.getenv('DOCS_PATH')\n",
    "index_db = os.getenv('DB_NAME')"
   ]
  },
  {
   "cell_type": "markdown",
   "id": "95fbd4ea",
   "metadata": {},
   "source": [
    "## Load PDFs from docs folder"
   ]
  },
  {
   "cell_type": "code",
   "execution_count": 90,
   "id": "ba97564d",
   "metadata": {},
   "outputs": [],
   "source": [
    "def load_fpaths(docs_path):\n",
    "    return [os.path.join(docs_path, f) for f in os.listdir(docs_path)]"
   ]
  },
  {
   "cell_type": "code",
   "execution_count": 6,
   "metadata": {},
   "outputs": [],
   "source": [
    "def load_file(file_path):\n",
    "\n",
    "    with fitz.open(file_path) as doc:\n",
    "        return([page.get_text() for page in doc][0])"
   ]
  },
  {
   "cell_type": "code",
   "execution_count": 61,
   "id": "e0995071",
   "metadata": {},
   "outputs": [],
   "source": [
    "def make_id(file_path: str, chunk_id: int) -> str:\n",
    "    \n",
    "    raw = f\"{file_path}_{chunk_id}\"\n",
    "    return hashlib.md5(raw.encode()).hexdigest()"
   ]
  },
  {
   "cell_type": "code",
   "execution_count": 88,
   "metadata": {},
   "outputs": [],
   "source": [
    "\n",
    "def generate_index_entries(file_path):\n",
    "\n",
    "    tokenizer = TokenTextSplitter(chunk_size=200, chunk_overlap=20)\n",
    "    embed_model = SentenceTransformer(\"all-MiniLM-L6-v2\")\n",
    "\n",
    "    file_text = load_file(file_path)\n",
    "\n",
    "    token_lst = tokenizer.split_text(file_text)\n",
    "    embeddings = embed_model.encode(token_lst, batch_size=32, show_progress_bar=True)\n",
    "    ids = [make_id(file_path, i+1) for i, _ in enumerate(token_lst)]\n",
    "    metadata = [{'source': file_path, 'chunk': i+1, 'preview': token[:100]} for i, token in enumerate(token_lst)]\n",
    "\n",
    "    return ids, token_lst, embeddings, metadata"
   ]
  },
  {
   "cell_type": "code",
   "execution_count": 89,
   "id": "b313c8b6",
   "metadata": {},
   "outputs": [],
   "source": [
    "\n",
    "def push_to_index(file_path, index_db):\n",
    "\n",
    "    client = chromadb.Client()\n",
    "    collection = client.get_or_create_collection(index_db)\n",
    "\n",
    "    index_entries = generate_index_entries(file_path)\n",
    "    \n",
    "    collection.add(\n",
    "        ids=index_entries[0],\n",
    "        documents=index_entries[1],\n",
    "        embeddings=index_entries[2],\n",
    "        metadatas=index_entries[3]\n",
    "    )\n",
    "    \n",
    "    return collection"
   ]
  },
  {
   "cell_type": "code",
   "execution_count": 79,
   "id": "99b960bd",
   "metadata": {},
   "outputs": [
    {
     "name": "stderr",
     "output_type": "stream",
     "text": [
      "Batches: 100%|██████████| 1/1 [00:01<00:00,  1.37s/it]\n"
     ]
    },
    {
     "data": {
      "text/plain": [
       "Collection(name=doc_index)"
      ]
     },
     "execution_count": 79,
     "metadata": {},
     "output_type": "execute_result"
    }
   ],
   "source": [
    "push_to_index('docs/doc3.pdf', index_db)"
   ]
  },
  {
   "cell_type": "code",
   "execution_count": 87,
   "id": "c16bcc8f",
   "metadata": {},
   "outputs": [
    {
     "name": "stdout",
     "output_type": "stream",
     "text": [
      "Top matches:\n",
      "\n",
      " are critical in communication with other dogs.\n",
      "Every dog’s nose print is unique, similar to human fingerprints. In fact, some kennel clubs and \n",
      "organizations have experimented with nose-printing as a form of identification. The wet surface \n",
      "of a dog’s nose also plays an important role in scent detection. The moisture helps capture scent \n",
      "particles from the air, enhancing the dog’s ability to detect and analyze odors. When a dog licks \n",
      "its nose, it’s essentially \"resetting\" this system, making it easier to pick up the next scent.\n",
      "\n"
     ]
    }
   ],
   "source": [
    "query = model.encode([\"how do dogs communicate with other dogs?\"]).tolist()\n",
    "results = collection.query(query_embeddings=query, n_results=2)\n",
    "print('Top matches:\\n')\n",
    "print(results[\"documents\"][0][0])"
   ]
  },
  {
   "cell_type": "code",
   "execution_count": 80,
   "id": "1707530a",
   "metadata": {},
   "outputs": [
    {
     "name": "stdout",
     "output_type": "stream",
     "text": [
      "[Collection(name=doc_index)]\n",
      "Number of items: 10\n",
      "IDs: ['159f62dcac4000f0db94e4cfaa7abdda', 'c9d0461272109d46f02e360cbac06fd1', '30624931fb9ff1a193bda505652f1bf2', 'f7cb9c9588495a45788a63f9ff491dd1', '5937f02a29431fb4f24be9126f8654ed']\n",
      "Documents: ['The Remarkable Sense of Smell in Dogs\\nDogs are often called \"noses with legs,\" and for good reason. Their olfactory system is one of the \\nmost advanced in the animal kingdom. While humans have about 5 million scent receptors, dogs \\ncan have anywhere from 125 million to 300 million depending on the breed. This difference \\ngives them an extraordinary ability to detect faint odors, sometimes at concentrations as low as \\nparts per trillion. It’s not just the number of receptors, though—the part of a dog’s brain devoted \\nto analyzing smells is 40 times larger than that of a human, relative to brain size.\\nCertain breeds, like the Bloodhound, German Shepherd, and Belgian Malinois, are trained for \\nscent detection work in law enforcement and rescue operations. Bloodhounds, in particular, can \\nfollow a trail that is days old and over great distances, with courts even accepting', ', can \\nfollow a trail that is days old and over great distances, with courts even accepting their tracking \\nresults as evidence. Detection dogs are also used in airports to identify drugs, explosives, and \\neven agricultural products. Recently, research has shown that dogs can be trained to detect \\ncertain illnesses, including cancers, diabetes-related blood sugar changes, and even COVID-19.\\nAnother fascinating aspect of a dog’s nose is its structure. Unlike humans, dogs have a split \\nairflow system in their nostrils. One part is dedicated to breathing, while the other directs air into \\na specialized olfactory chamber where scent molecules are trapped and analyzed. Dogs also have \\na Jacobsen’s organ (or vomeronasal organ), which allows them to detect pheromones—chemical \\nsignals that are critical in communication with other dogs.\\nEvery dog’s nose print is unique, similar']\n",
      "Metadata: [{'preview': 'The Remarkable Sense of Smell in Dogs\\nDogs are often called \"noses with legs,\" and for good reason. ', 'source': 'docs/doc1.pdf', 'chunk': 1}, {'preview': ', can \\nfollow a trail that is days old and over great distances, with courts even accepting their tr', 'chunk': 2, 'source': 'docs/doc1.pdf'}]\n"
     ]
    }
   ],
   "source": [
    "client = chromadb.Client()\n",
    "print(client.list_collections())\n",
    "print(\"Number of items:\", collection.count())\n",
    "results = collection.get()\n",
    "print(\"IDs:\", results[\"ids\"][:5])\n",
    "print(\"Documents:\", results[\"documents\"][:2])   # show first 2 docs\n",
    "print(\"Metadata:\", results[\"metadatas\"][:2])"
   ]
  }
 ],
 "metadata": {
  "kernelspec": {
   "display_name": ".venv",
   "language": "python",
   "name": "python3"
  },
  "language_info": {
   "codemirror_mode": {
    "name": "ipython",
    "version": 3
   },
   "file_extension": ".py",
   "mimetype": "text/x-python",
   "name": "python",
   "nbconvert_exporter": "python",
   "pygments_lexer": "ipython3",
   "version": "3.10.4"
  }
 },
 "nbformat": 4,
 "nbformat_minor": 5
}
